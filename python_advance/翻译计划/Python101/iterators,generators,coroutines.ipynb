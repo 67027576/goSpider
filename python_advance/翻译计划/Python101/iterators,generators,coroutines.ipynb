{
 "cells": [
  {
   "cell_type": "markdown",
   "metadata": {},
   "source": [
    "## Python 101: iterators,generators,coroutines"
   ]
  },
  {
   "cell_type": "markdown",
   "metadata": {},
   "source": [
    "> 作者：  \n",
    "> Mark McDonnell  \n",
    "> 发布时间: 2019-12-28  \n",
    "> 原文链接：[https://www.integralist.co.uk/posts/python-generators/](https://www.integralist.co.uk/posts/python-generators/)  \n",
    ">\n",
    "> 翻译:  \n",
    "> Dustyposa  \n"
   ]
  },
  {
   "cell_type": "markdown",
   "metadata": {},
   "source": [
    "在这篇文章中，我将讨论一下什么是生成器`(generators)`以及和协程`(coroutines)`作比较，但是为了了解这两个概念*（生成器和协程）*我们需要回头看一看并了解迭代器`(Iterator)`的概念。\n",
    "我们最终将会讨论...\n",
    "- [迭代器(Iterators)]()\n",
    "    - [为什么要使用迭代器？]()\n",
    "    - [迭代器的实现]()\n",
    "    - [迭代器示例]()\n",
    "- [生成器(Generators)]()\n",
    "    - [为什么要使用生成器？]()\n",
    "    - [生成器的实现]()\n",
    "    - [生成器示例]()\n",
    "    - [生成器表达式]()\n",
    "    - [嵌套生成器（例如:yield from）]()\n",
    "- [协程(Coroutines)]()\n",
    "    - [为什么要使用协程？]()\n",
    "    - [协程的实现]()\n",
    "    - [协程示例]()\n",
    "    - [Asyncio: 基于生成器的协程]()\n",
    "    - [Asyncio: 新的 async 协程]()\n",
    "    - [协程的种类]()\n",
    "    - [其他方面]()\n",
    "    \n",
    "每个章节都会引导到下一章节，所以这篇文章的最好的阅读方式就是按照默认章节的顺序。除非你已经熟悉前面的部分，更喜欢跳读。"
   ]
  },
  {
   "cell_type": "markdown",
   "metadata": {},
   "source": [
    "### 摘要\n",
    "---"
   ]
  },
  {
   "cell_type": "markdown",
   "metadata": {},
   "source": [
    "在之后我们将讨论的所有东西的摘要如下：\n",
    "- 迭代器允许你对自定义对象进行迭代\n",
    "- 生成器构建于迭代器之上（它们较少了模版）。\n",
    "- 生成器表达式比生成器更加简洁\n",
    "- 协程就*是*生成器，但是它们的`yield`接收值。\n",
    "- 协程可以暂停和重新执行（对于并发来说是非常好的）\n",
    "\n",
    "> † think [comprehensions](https://gist.github.com/e5310d1082b0ff8307e39b71a6f9bae5)."
   ]
  },
  {
   "cell_type": "markdown",
   "metadata": {},
   "source": [
    "### 迭代器\n",
    "---"
   ]
  },
  {
   "cell_type": "markdown",
   "metadata": {},
   "source": [
    "根据官方[`Python术语表`](https://docs.python.org/3.7/glossary.html#term-iterator)，*迭代器*是...  \n",
    "> 表示数据流的对象\n",
    "### 为什么使用迭代器?\n",
    "迭代器是很有用的，因为它允许使用标准的`Python for-in`语法对任意自定义对象进行迭代。这就是内部列表和字典类型的工作方式，以及它们如何允许`for-in`对它们进行迭代。  \n",
    "更重要的是，迭代器（我们会发现）内存效率很高，这就意味着一次只能处理一个元素。因此，你可以有一个提供无限元素的序列可迭代对象并且你会发现你的程序永远不会耗尽内存分配。\n",
    "\n",
    "### 迭代器的实现\n",
    "一个迭代器是（通常）是一个实现了`__iter__ and __next__`*'双下(dunder)'*方法，尽管`__next__`方法不需要作为定义了`__iter__`方法的对象的一部分被定义。让我澄清一下...\n",
    "\n",
    "`'迭代器'`实际上只是一些数据的容器。这个`'容器'`，根据*[协议文档(protocol documentation)](https://docs.python.org/3.7/library/stdtypes.html#iterator.__iter__)*必须有一个`__iter__`方法"
   ]
  },
  {
   "cell_type": "code",
   "execution_count": null,
   "metadata": {},
   "outputs": [],
   "source": []
  }
 ],
 "metadata": {
  "kernelspec": {
   "display_name": "Python 3",
   "language": "python",
   "name": "python3"
  },
  "language_info": {
   "codemirror_mode": {
    "name": "ipython",
    "version": 3
   },
   "file_extension": ".py",
   "mimetype": "text/x-python",
   "name": "python",
   "nbconvert_exporter": "python",
   "pygments_lexer": "ipython3",
   "version": "3.7.3"
  }
 },
 "nbformat": 4,
 "nbformat_minor": 2
}
