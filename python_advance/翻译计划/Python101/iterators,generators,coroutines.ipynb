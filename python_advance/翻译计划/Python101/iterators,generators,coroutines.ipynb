{
 "cells": [
  {
   "cell_type": "markdown",
   "metadata": {},
   "source": [
    "## Python 101: iterators,generators,coroutines"
   ]
  },
  {
   "cell_type": "markdown",
   "metadata": {},
   "source": [
    "> 作者：  \n",
    "> Mark McDonnell  \n",
    "> 发布时间: 2019-12-28  \n",
    "> 原文链接：[https://www.integralist.co.uk/posts/python-generators/](https://www.integralist.co.uk/posts/python-generators/)  \n",
    ">\n",
    "> 翻译:  \n",
    "> Dustyposa  \n"
   ]
  },
  {
   "cell_type": "markdown",
   "metadata": {},
   "source": [
    "在这篇文章中，我将讨论一下什么是生成器`(generators)`以及和协程`(coroutines)`作比较，但是为了了解这两个概念*（生成器和协程）*我们需要回头看一看并了解迭代器`(Iterator)`的概念。\n",
    "我们最终将会讨论...\n",
    "- [迭代器(Iterators)]()\n",
    "    - [为什么要使用迭代器？]()\n",
    "    - [迭代器的实现]()\n",
    "    - [迭代器示例]()\n",
    "- [生成器(Generators)]()\n",
    "    - [为什么要使用生成器？]()\n",
    "    - [生成器的实现]()\n",
    "    - [生成器示例]()\n",
    "    - [生成器表达式]()\n",
    "    - [嵌套生成器（例如:yield from）]()\n",
    "- [协程(Coroutines)]()\n",
    "    - [为什么要使用协程？]()\n",
    "    - [协程的实现]()\n",
    "    - [协程示例]()\n",
    "    - [Asyncio: 基于生成器的协程]()\n",
    "    - [Asyncio: 新的 async 协程]()\n",
    "    - [协程的种类]()\n",
    "    - [其他方面]()\n",
    "    \n"
   ]
  },
  {
   "cell_type": "markdown",
   "metadata": {},
   "source": []
  }
 ],
 "metadata": {
  "kernelspec": {
   "display_name": "Python 3",
   "language": "python",
   "name": "python3"
  },
  "language_info": {
   "codemirror_mode": {
    "name": "ipython",
    "version": 3
   },
   "file_extension": ".py",
   "mimetype": "text/x-python",
   "name": "python",
   "nbconvert_exporter": "python",
   "pygments_lexer": "ipython3",
   "version": "3.7.4"
  }
 },
 "nbformat": 4,
 "nbformat_minor": 2
}
