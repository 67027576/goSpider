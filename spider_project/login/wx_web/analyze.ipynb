{
 "cells": [
  {
   "cell_type": "markdown",
   "metadata": {},
   "source": [
    "## 微信web 接口登录分析\n",
    "网址: https://wx.qq.com/"
   ]
  },
  {
   "cell_type": "markdown",
   "metadata": {},
   "source": [
    "### 1. 网址分析\n",
    "打开网址我们可以看到如图所示的页面:  \n",
    "![web页面](./images/index.png)  \n",
    "**那么，这个二维码是哪里来的呢，我们用F12进行抓包看看：**  \n",
    "![web页面](./images/qr.png)  \n",
    "**很明显来自这个请求，我们进行请求分析**  \n",
    "![web页面](./images/ana_qr.png) \n",
    "这个关键参数的规律，很明显看不出来，那我们试着搜索一下，这个关键参数的来源是哪里。"
   ]
  },
  {
   "cell_type": "markdown",
   "metadata": {},
   "source": [
    "### 2. 关键参数来源分析\n",
    "利用Ctrl + F 进行关键字搜索，可以得到如下结果:\n",
    "![请求列表](./images/ana_key1.png)\n",
    "**但是很明显，我们打开的第三条请求也有这个关键参数，所以产生这个关键参数的地方不是第三条请求，我们对第二条请求继续进行分析：**\n",
    "![关键参数来源请求](./images/ana_key2.png)  \n",
    "**接下来我们用代码尝试一下：**"
   ]
  },
  {
   "cell_type": "code",
   "execution_count": 3,
   "metadata": {},
   "outputs": [],
   "source": [
    "import requests\n",
    "import time"
   ]
  },
  {
   "cell_type": "code",
   "execution_count": 10,
   "metadata": {},
   "outputs": [],
   "source": [
    "# 构造请求参数\n",
    "params = {\n",
    "    \"appid\": \"wx782c26e4c19acffb\",\n",
    "    \"redirect_uri\": \"https://wx.qq.com/cgi-bin/mmwebwx-bin/webwxnewloginpage\",\n",
    "    \"fun\": \"new\",\n",
    "    \"lang\": \"zh_CN\",\n",
    "    \"_\": int(str(time.time()).replace(\".\", \"\")[:13])\n",
    "}\n",
    "# 构造请求头\n",
    "headers = {\n",
    "    \"Referer\": \"https://wx.qq.com/\",\n",
    "    \"User-Agent\": \"Mozilla/5.0 (Windows NT 6.1; Win64; x64) AppleWebKit/537.36 (KHTML, like Gecko) Chrome/73.0.3683.86 Safari/537.36\",\n",
    "}\n",
    "url = \"https://login.wx.qq.com/jslogin\"\n",
    "session = requests.session()"
   ]
  },
  {
   "cell_type": "code",
   "execution_count": 14,
   "metadata": {},
   "outputs": [
    {
     "data": {
      "text/plain": [
       "'window.QRLogin.code = 200; window.QRLogin.uuid = \"AZGQ_G8qhA==\";'"
      ]
     },
     "execution_count": 14,
     "metadata": {},
     "output_type": "execute_result"
    }
   ],
   "source": [
    "response = session.get(url, params=params, headers=headers)\n",
    "response.text"
   ]
  },
  {
   "cell_type": "markdown",
   "metadata": {},
   "source": [
    "**以上很明显是我们需要的参数，接下来我们提取这个参数**"
   ]
  },
  {
   "cell_type": "code",
   "execution_count": 15,
   "metadata": {},
   "outputs": [
    {
     "data": {
      "text/plain": [
       "'AZGQ_G8qhA=='"
      ]
     },
     "execution_count": 15,
     "metadata": {},
     "output_type": "execute_result"
    }
   ],
   "source": [
    "qr_key = response.text.split(\";\")[-2].split(\" = \")[-1].strip('\"\"')\n",
    "qr_key"
   ]
  },
  {
   "cell_type": "markdown",
   "metadata": {},
   "source": [
    "### 3. 获取二维码"
   ]
  },
  {
   "cell_type": "markdown",
   "metadata": {},
   "source": [
    "二维码的请求地址如下图:  \n",
    "![qrcode](./images/qr_url.png)  \n",
    "**我们进行请求尝试**"
   ]
  },
  {
   "cell_type": "code",
   "execution_count": 17,
   "metadata": {},
   "outputs": [
    {
     "data": {
      "text/plain": [
       "<Response [200]>"
      ]
     },
     "execution_count": 17,
     "metadata": {},
     "output_type": "execute_result"
    }
   ],
   "source": [
    "qr_url = \"https://login.weixin.qq.com/qrcode/\" + qr_key\n",
    "response = session.get(qr_url)\n",
    "response"
   ]
  },
  {
   "cell_type": "markdown",
   "metadata": {},
   "source": [
    "**当然，数据是二进制，我们得进行转化**"
   ]
  },
  {
   "cell_type": "code",
   "execution_count": 18,
   "metadata": {},
   "outputs": [
    {
     "data": {
      "text/plain": [
       "b'\\xff\\xd8\\xff\\xe0\\x00\\x10JFIF\\x00\\x01\\x01\\x00\\x00\\x01\\x00\\x01\\x00\\x00\\xff\\xdb\\x00C\\x00\\x03\\x02\\x02\\x03\\x02\\x02\\x03\\x03\\x03\\x03\\x04\\x03\\x03\\x04\\x05\\x08\\x05\\x05\\x04\\x04\\x05\\n\\x07\\x07\\x06\\x08\\x0c\\n\\x0c\\x0c\\x0b\\n\\x0b\\x0b\\r\\x0e\\x12\\x10\\r\\x0e\\x11\\x0e\\x0b\\x0b\\x10\\x16\\x10\\x11\\x13\\x14\\x15\\x15\\x15\\x0c\\x0f\\x17\\x18\\x16\\x14\\x18\\x12\\x14\\x15\\x14\\xff\\xc0\\x00\\x0b\\x08\\x01\\xae\\x01\\xae\\x01\\x01'"
      ]
     },
     "execution_count": 18,
     "metadata": {},
     "output_type": "execute_result"
    }
   ],
   "source": [
    "response.content[:100]"
   ]
  },
  {
   "cell_type": "code",
   "execution_count": 24,
   "metadata": {},
   "outputs": [],
   "source": [
    "from PIL import Image\n",
    "import io"
   ]
  },
  {
   "cell_type": "code",
   "execution_count": 25,
   "metadata": {},
   "outputs": [
    {
     "data": {
      "image/png": "[encoded data removed]",
      "text/plain": [
       "<PIL.JpegImagePlugin.JpegImageFile image mode=L size=430x430 at 0x5E3AA58>"
      ]
     },
     "execution_count": 25,
     "metadata": {},
     "output_type": "execute_result"
    }
   ],
   "source": [
    "ig = io.BytesIO(response.content)\n",
    "Image.open(ig)"
   ]
  },
  {
   "cell_type": "markdown",
   "metadata": {},
   "source": [
    "**然后就可以扫一扫拉，扫描完后我们进行下一步分析**"
   ]
  },
  {
   "cell_type": "markdown",
   "metadata": {},
   "source": [
    "## 4. 获取好友列表\n",
    "在登录之后，好友的数据是从哪里来的呢？ 我们逐一看返回的ajax请求发现  \n",
    "![好友数据](./images/lgin.png)  \n",
    "数据来自这里，我们看一下请求头:\n",
    "![好友数据请求](./images/ana_login.png)  \n",
    "发现有三个参数, 有一个 \"skey\" 比较特殊，用同样的方法，我们进行 'Ctrl+F' 进行搜索"
   ]
  },
  {
   "cell_type": "code",
   "execution_count": 27,
   "metadata": {},
   "outputs": [
    {
     "data": {
      "text/plain": [
       "{'BaseResponse': {'Ret': 1, 'ErrMsg': ''},\n",
       " 'MemberCount': 0,\n",
       " 'MemberList': [],\n",
       " 'Seq': 0}"
      ]
     },
     "execution_count": 27,
     "metadata": {},
     "output_type": "execute_result"
    }
   ],
   "source": [
    "response = session.get(\"https://wx2.qq.com/cgi-bin/mmwebwx-bin/webwxgetcontact?r=\"+ str(time.time()).replace(\".\", \"\")[:13] +\"&seq=0&skey=@crypt_4a9c92a1_c808f1ac793e52e77e907f76cf7ca086\")\n",
    "response.json()"
   ]
  }
 ],
 "metadata": {
  "kernelspec": {
   "display_name": "Python 3",
   "language": "python",
   "name": "python3"
  },
  "language_info": {
   "codemirror_mode": {
    "name": "ipython",
    "version": 3
   },
   "file_extension": ".py",
   "mimetype": "text/x-python",
   "name": "python",
   "nbconvert_exporter": "python",
   "pygments_lexer": "ipython3",
   "version": "3.7.0"
  }
 },
 "nbformat": 4,
 "nbformat_minor": 2
}
