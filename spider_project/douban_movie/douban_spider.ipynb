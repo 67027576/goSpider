{
 "cells": [
  {
   "cell_type": "markdown",
   "metadata": {},
   "source": [
    "# 豆瓣电影的多方法解析\n",
    "https://movie.douban.com/tag/Top100"
   ]
  },
  {
   "cell_type": "markdown",
   "metadata": {},
   "source": [
    "### 1. 分析网页，确认爬取目标的数据类型。\n",
    "   - #### 打开 [目标url](https://movie.douban.com/tag/Top100), 定位数据位置\n",
    "   ![爬取源网址](./images/index.png)  \n",
    "   - #### 定位需要的数据位置，查看爬取目标。  \n",
    "   ![爬取目标](./images/data_target.png)  \n",
    "   由图可得，我们需要的数据分别为，['海报', '电影名', '上映日期', '演员', '评分', '评价人数']\n",
    "   - #### 查看请求，分析数据来源请求（F12 >> network 打开请求界面，如下图）\n",
    "   ![抓包准备](./images/capture_package_ready.png)  \n",
    "   - #### 确认数据请求来源(Ctrl + F 搜索: 辛德勒)\n",
    "   ![抓包准备](./images/confirm_request.png)  \n",
    "   上图可知，该请求只有一个，所以就能轻松的确定来源拉！ \n",
    "   - #### 查看headers，分析请求报文\n",
    "   ![请求分析](./images/requests_ann.png)  \n",
    "   分析结果如图，所以我们可以得出以下结论：  \n",
    "   \n",
    "    \n",
    "| 信息     | 结果                                  |\n",
    "| -------- | -------------------------------------|\n",
    "| 请求地址 | <https://movie.douban.com/tag/Top100> |\n",
    "| 请求方法 | Get                                   |\n",
    "| 响应格式 | text 文本                             |\n",
    "| 编码     | UTF-8                                |"
   ]
  },
  {
   "cell_type": "markdown",
   "metadata": {},
   "source": [
    "## 2. 利用requests进行请求测试\n",
    "`requests.get`  \n",
    "定义请求函数，`get_data`  \n",
    "返回`text`数据  "
   ]
  },
  {
   "cell_type": "code",
   "execution_count": 1,
   "metadata": {},
   "outputs": [],
   "source": [
    "import requests\n",
    "from requests.exceptions import HTTPError"
   ]
  },
  {
   "cell_type": "code",
   "execution_count": 2,
   "metadata": {},
   "outputs": [],
   "source": [
    "def get_data(url):\n",
    "    \n",
    "    response = requests.get(url)\n",
    "    if response.status_code == requests.codes.ok:  # 检测状态码\n",
    "        return response.text\n",
    "    else:\n",
    "        response.raise_for_status()  # 4xx 5xx 时,引出错误 代替 raise requests.exception.HTTPError"
   ]
  },
  {
   "cell_type": "code",
   "execution_count": 3,
   "metadata": {},
   "outputs": [],
   "source": [
    "url = \"https://movie.douban.com/tag/Top100\""
   ]
  },
  {
   "cell_type": "code",
   "execution_count": 4,
   "metadata": {},
   "outputs": [],
   "source": [
    "data = get_data(url)  # 获取数据"
   ]
  },
  {
   "cell_type": "markdown",
   "metadata": {},
   "source": [
    "## 3. 提取数据\n",
    "   - 正则提取\n",
    "   - BeautifulSoup 提取\n",
    "   - Xpath 提取\n",
    "   - scrapy 混合提取"
   ]
  },
  {
   "cell_type": "markdown",
   "metadata": {},
   "source": [
    "### 1. 正则提取\n",
    "- 观察数据位置\n",
    "![电影名，海报地址](./images/re_name_poster.png)"
   ]
  },
  {
   "cell_type": "code",
   "execution_count": 5,
   "metadata": {},
   "outputs": [],
   "source": [
    "import re"
   ]
  },
  {
   "cell_type": "code",
   "execution_count": 15,
   "metadata": {},
   "outputs": [
    {
     "data": {
      "text/plain": [
       "([],\n",
       " [('\\n        <tr class=\"item\">\\n            <td width=\"100\" valign=\"top\">\\n                \\n\\n                    <a class=\"nbg\" href=\"https://movie.douban.com/subject/1295124/\"  title=\"辛德勒的名单\">\\n                        <img src=\"https://img3.doubanio.com/view/photo/s_ratio_poster/public/p492406163.jpg\" width=\"75\" alt=\"辛德勒的名单\" class=\"\"/>\\n                    </a>\\n            </td>\\n\\n            <td valign=\"top\">\\n                \\n\\n                <div class=\"pl2\">\\n\\n                    <a href=\"https://movie.douban.com/subject/1295124/\"  class=\"\">\\n                        辛德勒的名单\\n                        / ',\n",
       "   '舒特拉的名单(港) / 辛德勒名单'),\n",
       "  ('\\n        <tr class=\"item\">\\n            <td width=\"100\" valign=\"top\">\\n                \\n\\n                    <a class=\"nbg\" href=\"https://movie.douban.com/subject/1292262/\"  title=\"美国往事\">\\n                        <img src=\"https://img1.doubanio.com/view/photo/s_ratio_poster/public/p477229647.jpg\" width=\"75\" alt=\"美国往事\" class=\"\"/>\\n                    </a>\\n            </td>\\n\\n            <td valign=\"top\">\\n                \\n\\n                <div class=\"pl2\">\\n\\n                    <a href=\"https://movie.douban.com/subject/1292262/\"  class=\"\">\\n                        美国往事\\n                        / ',\n",
       "   '四海兄弟(台) / 义薄云天(港)'),\n",
       "  ('\\n        <tr class=\"item\">\\n            <td width=\"100\" valign=\"top\">\\n                \\n\\n                    <a class=\"nbg\" href=\"https://movie.douban.com/subject/1900841/\"  title=\"窃听风暴\">\\n                        <img src=\"https://img1.doubanio.com/view/photo/s_ratio_poster/public/p1808872109.jpg\" width=\"75\" alt=\"窃听风暴\" class=\"\"/>\\n                    </a>\\n            </td>\\n\\n            <td valign=\"top\">\\n                \\n\\n                <div class=\"pl2\">\\n\\n                    <a href=\"https://movie.douban.com/subject/1900841/\"  class=\"\">\\n                        窃听风暴\\n                        / ',\n",
       "   '窃听者(港) / 他人的生活'),\n",
       "  ('\\n        <tr class=\"item\">\\n            <td width=\"100\" valign=\"top\">\\n                \\n\\n                    <a class=\"nbg\" href=\"https://movie.douban.com/subject/1291841/\"  title=\"教父\">\\n                        <img src=\"https://img3.doubanio.com/view/photo/s_ratio_poster/public/p616779645.jpg\" width=\"75\" alt=\"教父\" class=\"\"/>\\n                    </a>\\n            </td>\\n\\n            <td valign=\"top\">\\n                \\n\\n                <div class=\"pl2\">\\n\\n                    <a href=\"https://movie.douban.com/subject/1291841/\"  class=\"\">\\n                        教父\\n                        / ',\n",
       "   'Mario Puzo&#39;s The Godfather'),\n",
       "  ('\\n        <tr class=\"item\">\\n            <td width=\"100\" valign=\"top\">\\n                \\n\\n                    <a class=\"nbg\" href=\"https://movie.douban.com/subject/1292224/\"  title=\"飞越疯人院\">\\n                        <img src=\"https://img1.doubanio.com/view/photo/s_ratio_poster/public/p792238287.jpg\" width=\"75\" alt=\"飞越疯人院\" class=\"\"/>\\n                    </a>\\n            </td>\\n\\n            <td valign=\"top\">\\n                \\n\\n                <div class=\"pl2\">\\n\\n                    <a href=\"https://movie.douban.com/subject/1292224/\"  class=\"\">\\n                        飞越疯人院\\n                        / ',\n",
       "   '飞越杜鹃窝(台) / 飞越喜鹊巢'),\n",
       "  ('\\n        <tr class=\"item\">\\n            <td width=\"100\" valign=\"top\">\\n                \\n\\n                    <a class=\"nbg\" href=\"https://movie.douban.com/subject/1293350/\"  title=\"两杆大烟枪\">\\n                        <img src=\"https://img1.doubanio.com/view/photo/s_ratio_poster/public/p792443418.jpg\" width=\"75\" alt=\"两杆大烟枪\" class=\"\"/>\\n                    </a>\\n            </td>\\n\\n            <td valign=\"top\">\\n                \\n\\n                <div class=\"pl2\">\\n\\n                    <a href=\"https://movie.douban.com/subject/1293350/\"  class=\"\">\\n                        两杆大烟枪\\n                        / ',\n",
       "   '够姜四小强(港) / 两根枪管(台)'),\n",
       "  ('\\n        <tr class=\"item\">\\n            <td width=\"100\" valign=\"top\">\\n                \\n\\n                    <a class=\"nbg\" href=\"https://movie.douban.com/subject/1292365/\"  title=\"活着\">\\n                        <img src=\"https://img3.doubanio.com/view/photo/s_ratio_poster/public/p2513253791.jpg\" width=\"75\" alt=\"活着\" class=\"\"/>\\n                    </a>\\n            </td>\\n\\n            <td valign=\"top\">\\n                \\n\\n                <div class=\"pl2\">\\n\\n                    <a href=\"https://movie.douban.com/subject/1292365/\"  class=\"\">\\n                        活着\\n                        / ',\n",
       "   '人生 / Lifetimes'),\n",
       "  ('\\n        <tr class=\"item\">\\n            <td width=\"100\" valign=\"top\">\\n                \\n\\n                    <a class=\"nbg\" href=\"https://movie.douban.com/subject/1292000/\"  title=\"搏击俱乐部\">\\n                        <img src=\"https://img1.doubanio.com/view/photo/s_ratio_poster/public/p1910926158.jpg\" width=\"75\" alt=\"搏击俱乐部\" class=\"\"/>\\n                    </a>\\n            </td>\\n\\n            <td valign=\"top\">\\n                \\n\\n                <div class=\"pl2\">\\n\\n                    <a href=\"https://movie.douban.com/subject/1292000/\"  class=\"\">\\n                        搏击俱乐部\\n                        / ',\n",
       "   '搏击会(港) / 斗阵俱乐部(台)'),\n",
       "  ('\\n        <tr class=\"item\">\\n            <td width=\"100\" valign=\"top\">\\n                \\n\\n                    <a class=\"nbg\" href=\"https://movie.douban.com/subject/1309046/\"  title=\"V字仇杀队\">\\n                        <img src=\"https://img3.doubanio.com/view/photo/s_ratio_poster/public/p1465235231.jpg\" width=\"75\" alt=\"V字仇杀队\" class=\"\"/>\\n                    </a>\\n            </td>\\n\\n            <td valign=\"top\">\\n                \\n\\n                <div class=\"pl2\">\\n\\n                    <a href=\"https://movie.douban.com/subject/1309046/\"  class=\"\">\\n                        V字仇杀队\\n                        / ',\n",
       "   'V煞(港) / V怪客(台)'),\n",
       "  ('\\n        <tr class=\"item\">\\n            <td width=\"100\" valign=\"top\">\\n                \\n\\n                    <a class=\"nbg\" href=\"https://movie.douban.com/subject/1291832/\"  title=\"低俗小说\">\\n                        <img src=\"https://img3.doubanio.com/view/photo/s_ratio_poster/public/p1910902213.jpg\" width=\"75\" alt=\"低俗小说\" class=\"\"/>\\n                    </a>\\n            </td>\\n\\n            <td valign=\"top\">\\n                \\n\\n                <div class=\"pl2\">\\n\\n                    <a href=\"https://movie.douban.com/subject/1291832/\"  class=\"\">\\n                        低俗小说\\n                        / ',\n",
       "   '黑色追緝令(台) / 危险人物(港)')])"
      ]
     },
     "execution_count": 15,
     "metadata": {},
     "output_type": "execute_result"
    }
   ],
   "source": [
    "# 设置提取表达式 用 .*? 去掉变化值 (.*?) 保留需要的变化值 re.S 表示 . 可以匹配换行等字符\n",
    "poster_pattern = re.compile(r\"\"\"<a class=\"nbg\" href=\"https://movie.douban.com/subject/\\d+/\" title=\".*?\">.*?<img src=\"(.*?)\" width=\"75\" alt=\".*?\" class=\"\">.*?</a>\"\"\", re.S)  # 海报的正则表达式\n",
    "movie_name_pattern = re.compile(r\"\"\"<a href=\".*?\" class=\"\">(.*?)<span style=\"font-size:13px;\">(.*?)</span>.*?</a>\"\"\", re.S)  # 电影名正则表达式\n",
    "poster_res = re.findall(poster_pattern, data)\n",
    "movie_name_res = re.findall(movie_name_pattern, data)\n",
    "poster_res, movie_name_res"
   ]
  }
 ],
 "metadata": {
  "kernelspec": {
   "display_name": "Python 3",
   "language": "python",
   "name": "python3"
  },
  "language_info": {
   "codemirror_mode": {
    "name": "ipython",
    "version": 3
   },
   "file_extension": ".py",
   "mimetype": "text/x-python",
   "name": "python",
   "nbconvert_exporter": "python",
   "pygments_lexer": "ipython3",
   "version": "3.7.0"
  }
 },
 "nbformat": 4,
 "nbformat_minor": 2
}
