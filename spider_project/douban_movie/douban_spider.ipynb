{
 "cells": [
  {
   "cell_type": "markdown",
   "metadata": {},
   "source": [
    "# 豆瓣电影的多方法解析\n",
    "https://movie.douban.com/tag/Top100"
   ]
  },
  {
   "cell_type": "markdown",
   "metadata": {},
   "source": [
    "### 1. 分析网页，确认爬取目标的数据类型。\n",
    "   - #### 打开 [目标url](https://movie.douban.com/tag/Top100), 定位数据位置\n",
    "   ![爬取源网址](./images/index.png)  \n",
    "   - #### 定位需要的数据位置，查看爬取目标。  \n",
    "   ![爬取目标](./images/data_target.png)  \n",
    "   由图可得，我们需要的数据分别为，['海报', '电影名', '上映日期', '演员', '评分', '评价人数']\n",
    "   - #### 查看请求，分析数据来源请求（F12 >> network 打开请求界面，如下图）\n",
    "   ![抓包准备](./images/capture_package_ready.png)  \n",
    "   - #### 确认数据请求来源(Ctrl + F 搜索: 辛德勒)\n",
    "   ![抓包准备](./images/confirm_request.png)  \n",
    "   上图可知，该请求只有一个，所以就能轻松的确定来源拉！ \n",
    "   - #### 查看headers，分析请求报文\n",
    "   ![请求分析](./images/requests_ann.png)  \n",
    "   分析结果如图，所以我们可以得出以下结论：  \n",
    "   \n",
    "    \n",
    "| 信息     | 结果                                  |\n",
    "| -------- | -------------------------------------|\n",
    "| 请求地址 | <https://movie.douban.com/tag/Top100> |\n",
    "| 请求方法 | Get                                   |\n",
    "| 响应格式 | text 文本                             |\n",
    "| 编码     | UTF-8                                |"
   ]
  },
  {
   "cell_type": "markdown",
   "metadata": {},
   "source": [
    "## 2. 利用requests进行请求测试\n",
    "`requests.get`  \n",
    "定义请求函数，`get_data`  \n",
    "返回`text`数据  "
   ]
  },
  {
   "cell_type": "code",
   "execution_count": 1,
   "metadata": {},
   "outputs": [],
   "source": [
    "import requests\n",
    "from requests.exceptions import HTTPError"
   ]
  },
  {
   "cell_type": "code",
   "execution_count": 2,
   "metadata": {},
   "outputs": [],
   "source": [
    "def get_data(url):\n",
    "    \n",
    "    response = requests.get(url)\n",
    "    if response.status_code == requests.codes.ok:  # 检测状态码\n",
    "        return response.text\n",
    "    else:\n",
    "        response.raise_for_status()  # 4xx 5xx 时,引出错误 代替 raise requests.exception.HTTPError"
   ]
  },
  {
   "cell_type": "code",
   "execution_count": 3,
   "metadata": {},
   "outputs": [],
   "source": [
    "url = \"https://movie.douban.com/tag/Top100\""
   ]
  },
  {
   "cell_type": "code",
   "execution_count": 4,
   "metadata": {},
   "outputs": [],
   "source": [
    "data = get_data(url)  # 获取数据"
   ]
  },
  {
   "cell_type": "markdown",
   "metadata": {},
   "source": [
    "## 3. 提取数据\n",
    "   - 正则提取\n",
    "   - BeautifulSoup 提取\n",
    "   - Xpath 提取\n",
    "   - scrapy 混合提取"
   ]
  },
  {
   "cell_type": "markdown",
   "metadata": {},
   "source": [
    "### 1. 正则提取\n",
    "- 观察数据位置\n",
    "![电影名，海报地址](./images/re_name_poster.png)"
   ]
  },
  {
   "cell_type": "code",
   "execution_count": 5,
   "metadata": {},
   "outputs": [],
   "source": [
    "import re"
   ]
  },
  {
   "cell_type": "markdown",
   "metadata": {},
   "source": [
    "### 提取 海报地址以及电影名称\n",
    "**通过查看该请求的响应内容快速进行复制匹配,如下图搜索:**\n",
    "![复制匹配](./images/re_get_data_1.png)  \n",
    "用到的匹配规则提示:\n",
    "   - \".\" 表示任意非空格换行等字符\n",
    "   - \".*?\"  表示贪婪匹配,最少匹配一次\n",
    "   - \"()\"  表示提取()中的内容\n",
    "   -  \"\\\\w\" 表示正常字符,比如英文字母,中文等常见文字\n",
    "   - \".+\"  表示至少匹配一次任意字符"
   ]
  },
  {
   "cell_type": "code",
   "execution_count": 40,
   "metadata": {
    "scrolled": true
   },
   "outputs": [
    {
     "data": {
      "text/plain": [
       "([('https://img3.doubanio.com/view/photo/s_ratio_poster/public/p492406163.jpg',\n",
       "   '辛德勒的名单'),\n",
       "  ('https://img1.doubanio.com/view/photo/s_ratio_poster/public/p1546987967.jpg',\n",
       "   '狩猎'),\n",
       "  ('https://img1.doubanio.com/view/photo/s_ratio_poster/public/p477229647.jpg',\n",
       "   '美国往事'),\n",
       "  ('https://img3.doubanio.com/view/photo/s_ratio_poster/public/p2173577632.jpg',\n",
       "   '十二怒汉'),\n",
       "  ('https://img1.doubanio.com/view/photo/s_ratio_poster/public/p1808872109.jpg',\n",
       "   '窃听风暴'),\n",
       "  ('https://img3.doubanio.com/view/photo/s_ratio_poster/public/p1910901025.jpg',\n",
       "   '天堂电影院'),\n",
       "  ('https://img3.doubanio.com/view/photo/s_ratio_poster/public/p616779645.jpg',\n",
       "   '教父'),\n",
       "  ('https://img1.doubanio.com/view/photo/s_ratio_poster/public/p2119675128.jpg',\n",
       "   '一一'),\n",
       "  ('https://img1.doubanio.com/view/photo/s_ratio_poster/public/p792238287.jpg',\n",
       "   '飞越疯人院'),\n",
       "  ('https://img3.doubanio.com/view/photo/s_ratio_poster/public/p1181775734.jpg',\n",
       "   '鬼子来了'),\n",
       "  ('https://img1.doubanio.com/view/photo/s_ratio_poster/public/p792443418.jpg',\n",
       "   '两杆大烟枪'),\n",
       "  ('https://img1.doubanio.com/view/photo/s_ratio_poster/public/p453723669.jpg',\n",
       "   '被嫌弃的松子的一生'),\n",
       "  ('https://img3.doubanio.com/view/photo/s_ratio_poster/public/p2513253791.jpg',\n",
       "   '活着'),\n",
       "  ('https://img3.doubanio.com/view/photo/s_ratio_poster/public/p479682972.jpg',\n",
       "   '楚门的世界'),\n",
       "  ('https://img1.doubanio.com/view/photo/s_ratio_poster/public/p1910926158.jpg',\n",
       "   '搏击俱乐部'),\n",
       "  ('https://img3.doubanio.com/view/photo/s_ratio_poster/public/p1910824340.jpg',\n",
       "   '死亡诗社'),\n",
       "  ('https://img3.doubanio.com/view/photo/s_ratio_poster/public/p1465235231.jpg',\n",
       "   'V字仇杀队'),\n",
       "  ('https://img1.doubanio.com/view/photo/s_ratio_poster/public/p2550757929.jpg',\n",
       "   '闻香识女人'),\n",
       "  ('https://img3.doubanio.com/view/photo/s_ratio_poster/public/p1910902213.jpg',\n",
       "   '低俗小说'),\n",
       "  ('https://img3.doubanio.com/view/photo/s_ratio_poster/public/p1665997400.jpg',\n",
       "   '美丽心灵')],\n",
       " [('辛德勒的名单', '舒特拉的名单(港) / 辛德勒名单'),\n",
       "  ('狩猎', '谎言的烙印(台) / 诬网(港)'),\n",
       "  ('美国往事', '四海兄弟(台) / 义薄云天(港)'),\n",
       "  ('十二怒汉', '12怒汉 / 十二怒汉'),\n",
       "  ('窃听风暴', '窃听者(港) / 他人的生活'),\n",
       "  ('天堂电影院', '星光伴我心(港) / 新天堂乐园(台)'),\n",
       "  ('教父', 'Mario Puzo&#39;s The Godfather'),\n",
       "  ('一一', 'Yi yi / Yi yi: A One and a Two'),\n",
       "  ('飞越疯人院', '飞越杜鹃窝(台) / 飞越喜鹊巢'),\n",
       "  ('鬼子来了', 'Devils on the Doorstep'),\n",
       "  ('两杆大烟枪', '够姜四小强(港) / 两根枪管(台)'),\n",
       "  ('被嫌弃的松子的一生', '花样奇缘(港) / 令人讨厌的松子的一生(台)'),\n",
       "  ('活着', '人生 / Lifetimes'),\n",
       "  ('楚门的世界', '真人Show(港) / 真人戏'),\n",
       "  ('搏击俱乐部', '搏击会(港) / 斗阵俱乐部(台)'),\n",
       "  ('死亡诗社', '暴雨骄阳(港) / 春风化雨(台)'),\n",
       "  ('V字仇杀队', 'V煞(港) / V怪客(台)'),\n",
       "  ('闻香识女人', '女人香 / 女人的芳香'),\n",
       "  ('低俗小说', '黑色追緝令(台) / 危险人物(港)'),\n",
       "  ('美丽心灵', '有你终生美丽(港) / 美丽境界(台)')])"
      ]
     },
     "execution_count": 40,
     "metadata": {},
     "output_type": "execute_result"
    }
   ],
   "source": [
    "# 设置提取表达式 \n",
    "poster_pattern = re.compile(r\"\"\"<a class=\"nbg\" href=\".*?\"  title=\".*?\">.*?<img src=\"(.*?)\" width=\"75\" alt=\"(.*?)\" class=\"\"/>.*?</a>\"\"\", re.S)  # 海报的正则表达式\n",
    "movie_name_pattern = re.compile(r\"\"\" <div class=\"pl2\">.*? <a href=\".*?\"  class=\"\">.*?(\\w+).*?<span style=\"font-size:13px;\">(.*?)</span>.*?</a>\"\"\", re.S)  # 电影名正则表达式\n",
    "poster_res = re.findall(poster_pattern, data)\n",
    "movie_name_res = re.findall(movie_name_pattern, data)\n",
    "poster_res, movie_name_res"
   ]
  },
  {
   "cell_type": "markdown",
   "metadata": {},
   "source": [
    "**查看结果好像没什么问题, 我们用长度比较来看看数量是否一致**"
   ]
  },
  {
   "cell_type": "code",
   "execution_count": 41,
   "metadata": {},
   "outputs": [
    {
     "data": {
      "text/plain": [
       "True"
      ]
     },
     "execution_count": 41,
     "metadata": {},
     "output_type": "execute_result"
    }
   ],
   "source": [
    "len(poster_res) == len(movie_name_res)"
   ]
  },
  {
   "cell_type": "markdown",
   "metadata": {},
   "source": [
    "**长度一致,看来匹配规则在这里没问题  \n",
    "我们用同样的方法,提取其他需要的数据**  \n",
    "***这里有个小技巧,用额外的字段来得到唯一匹配, 如下图:***  \n",
    "需要的数据:  \n",
    "![需要的数据](./images/unique1.png)   \n",
    "额外数据匹配:  \n",
    "![额外匹配](./images/unique2.png)"
   ]
  },
  {
   "cell_type": "code",
   "execution_count": 43,
   "metadata": {},
   "outputs": [
    {
     "data": {
      "text/plain": [
       "[('1993-11-30(华盛顿首映) / 1994-02-04(美国) ',\n",
       "  ' 连姆·尼森 / 本·金斯利 / 拉尔夫·费因斯 / 卡罗琳·古多尔 / 乔纳森·萨加尔 / 艾伯丝·戴维兹 / 马尔戈萨·格贝尔 / 马克·伊瓦涅 / 碧翠斯·马科拉 / 安德烈·瑟韦林 / 弗里德里希·冯·图恩 / 克齐斯茨托夫·拉夫特...'),\n",
       " ('2012-05-20(戛纳电影节) / 2013-01-10(丹麦) ',\n",
       "  ' 麦斯·米科尔森 / 托玛斯·博·拉森 / 安妮卡·韦德科普 / 拉丝·弗格斯托姆 / 苏西·沃德 / 安妮·路易丝·哈辛 / 拉斯·兰特 / 亚历山德拉·拉帕波特 / 拉斯穆斯·林德·鲁宾 / 丹麦 / 瑞典 / 托马斯·温特伯格...'),\n",
       " ('1984-02-17(波士顿首映) / 1984-09-28(意大利) ',\n",
       "  ' 罗伯特·德尼罗 / 詹姆斯·伍兹 / 伊丽莎白·麦戈文 / 乔·佩西 / 波特·杨 / 塔斯黛·韦尔德 / 特里特·威廉斯 / 丹尼·爱罗 / 理查德·布赖特 / 詹姆斯·海登 / 威廉·弗西斯 / 达兰妮·弗鲁格 / 拉里·拉普...'),\n",
       " ('1957-04-13(美国) / 亨利·方达 ',\n",
       "  ' 马丁·鲍尔萨姆 / 约翰·菲德勒 / 李·科布 / E.G.马绍尔 / 杰克·克卢格曼  / 爱德华·宾斯 / 杰克·瓦尔登 / 约瑟夫·史威尼 / 埃德·贝格利 / 乔治·沃斯科维奇 / 罗伯特·韦伯 / 美国 / 西德尼·吕美特 / 96 分钟...'),\n",
       " ('2006-03-23(德国) / 乌尔里希·穆埃 ',\n",
       "  ' 马蒂娜·格德克 / 塞巴斯蒂安·科赫 / 乌尔里希·图库尔 / 托马斯·蒂梅 / 汉斯-尤韦·鲍尔 / 沃克马·克莱纳特 / 马提亚斯·布伦纳 / 查理·哈纳 / 赫伯特·克瑙普 / 巴斯蒂安·特罗斯特 / 玛丽·格鲁伯...'),\n",
       " ('1988-11-17(意大利) / 安东内拉·阿蒂利 ',\n",
       "  ' 恩佐·卡拉瓦勒 / 艾萨·丹尼埃利 / 里奥·故罗塔 / 马克·莱昂纳蒂 / 普佩拉·玛奇奥 / 阿格妮丝·那诺 / 莱奥波多·特里耶斯泰 / 萨瓦特利·卡西欧 / 尼古拉·迪·平托 / 罗伯塔·蕾娜 / 尼诺·戴罗佐...'),\n",
       " ('1972-03-15(纽约首映) / 1972-03-24(美国) ',\n",
       "  ' 马龙·白兰度 / 阿尔·帕西诺 / 詹姆斯·肯恩 / 理查德·卡斯特尔诺 / 罗伯特·杜瓦尔 / 斯特林·海登 / 约翰·马利 / 理查德·康特 / 艾尔·勒提埃里 / 黛安·基顿 / 阿贝·维高达 / 塔莉娅·夏尔 / 吉亚尼·罗素...'),\n",
       " ('2000-05-14(戛纳电影节) / 2000-12-16(日本) ',\n",
       "  ' 2017-07-28(台湾) / 李凯莉 / 金燕玲 / 张洋洋 / 萧淑慎 / 尾形一成 / 陈希圣 / 林孟瑾 / 陈以文 / 柯宇纶 / 柯素云 / 唐如韫 / 徐淑媛 / 陶传正 / 孙法钧 / 津田健次郎 / 江惠惠 / 李永丰 / 许安安 / 戴立忍...'),\n",
       " ('1975-11-19(美国) / 杰克·尼科尔森 ',\n",
       "  ' 丹尼·德维托 / 克里斯托弗·洛伊德 / 路易丝·弗莱彻 / 威尔·萨姆森 / 特德·马克兰德 / 布拉德·道里夫 / 斯加特曼·克罗索斯 / 迈克尔·贝里曼 / 彼得·布罗科 / 穆瓦科·卡姆布卡 / 威廉·达尔 / 乔西普·艾利克...'),\n",
       " ('2000-05-12(戛纳电影节) / 2002-04-27(日本) ',\n",
       "  ' 姜文 / 香川照之 / 袁丁 / 姜宏波 / 丛志军 / 喜子 / 泽田谦也 / 李海滨 / 蔡卫东 / 陈述 / 陈莲梅 / 史建全 / 陈强 / 宫路佳具 / 吴大维 / 梶冈润一 / 石山雄大 / 述平 / 姜武 / 中国大陆 / 姜文 / 139分钟...'),\n",
       " ('1998-08-28(英国) / 杰森·弗莱明 ',\n",
       "  ' 德克斯特·弗莱彻 / 尼克·莫兰 / 杰森·斯坦森 / 斯蒂文·麦金托什 / 斯汀 / 维尼·琼斯 / 丹尼·约翰-儒勒 / 维克多·麦奎尔 / 阿兰·福德 / 安德鲁·蒂曼 / 马修·沃恩 / 弗兰克·哈珀 / 罗尼·福克斯 / 罗伯·布莱顿...'),\n",
       " ('2006-05-27(日本) / 中谷美纪 ',\n",
       "  ' 瑛太 / 香川照之 / 市川实日子 / 伊势谷友介 / 柄本明 / 黑泽明日香 / 荒川良良 / 柴崎幸 / 土屋安娜 / 奥之矢佳奈 / 谷原章介 / 武田真治 / 片平渚 / 宫藤官九郎 / 角野卓造 / 田中要次 / 木村凯拉 / 谷中敦...'),\n",
       " ('1994-05-17(戛纳电影节) / 1994-06-30(香港) ',\n",
       "  ' 葛优 / 巩俐 / 姜武 / 牛犇 / 郭涛 / 张璐 / 倪大红 / 肖聪 / 董飞 / 刘天池 / 董立范 / 黄宗洛 / 刘燕瑾 / 李连义 / 杨同顺 / 苏岩 / 王丽华 / 中国大陆 / 香港 / 张艺谋 / 132分钟 / 剧情 / 历史 / 家庭...'),\n",
       " ('1998-06-05(美国) / 金·凯瑞 ',\n",
       "  ' 劳拉·琳妮 / 艾德·哈里斯 / 诺亚·艾默里奇 / 娜塔莎·麦克艾霍恩 / 马西娅·德波尼斯 / Adam Tomei / 哈里·谢尔 / 约翰·普莱舍 / 澳澜·琼斯 / Joe Minjares / 特里·金瑞利 / 乔尔·麦金农·米勒 / 冈本玉二 / Jake Eberle...'),\n",
       " ('1999-09-10(威尼斯电影节) / 1999-10-15(美国) ',\n",
       "  ' 爱德华·诺顿 / 布拉德·皮特 / 海伦娜·伯翰·卡特 / 扎克·格雷尼尔 / 米特·洛夫 / 杰瑞德·莱托 / 艾恩·贝利 / 里奇蒙德·阿奎特  / 乔治·马奎尔 / 鲍勃·斯蒂芬森 / Carl Ciarfalio / 斯图尔特·布拉姆博格...'),\n",
       " ('1989-06-02(多伦多首映) / 1989-06-09(美国) ',\n",
       "  ' 罗宾·威廉姆斯 / 罗伯特·肖恩·莱纳德 / 伊桑·霍克 / 乔西·查尔斯 / 盖尔·汉森 / 迪伦·库斯曼 / 阿勒隆·鲁杰罗 / 詹姆斯·沃特斯顿 / 诺曼·劳埃德 / 柯特伍德·史密斯 / 卡拉·贝尔韦尔 / 利昂·波纳尔...'),\n",
       " ('2005-12-11(BNAT电影节) / 2006-03-17(美国) ',\n",
       "  ' 娜塔莉·波特曼 / 雨果·维文 / 斯蒂芬·瑞 / 斯蒂芬·弗雷 / 约翰·赫特 / 蒂姆·皮戈特-史密斯 / 鲁珀特·格雷夫斯 / 罗杰·阿拉姆 / 本·迈尔斯 / 西妮德·库萨克 / 娜塔莎·怀特曼 / 约翰·斯坦丁 /...'),\n",
       " ('1992-12-23(美国) / 阿尔·帕西诺 ',\n",
       "  ' 克里斯·奥唐纳 / 詹姆斯·瑞布霍恩 / 加布里埃尔·安瓦尔 / 菲利普·塞默·霍夫曼 / 理查德·文彻 / 布莱德利·惠特福德 / 罗谢尔·奥利弗 / 托德·路易斯 / 马特·史密斯 / 吉恩·坎菲尔德 / 弗兰西丝·康罗伊...'),\n",
       " ('1994-05-12(戛纳电影节) / 1994-10-14(美国) ',\n",
       "  ' 约翰·特拉沃尔塔 / 乌玛·瑟曼 / 阿曼达·普拉莫 / 蒂姆·罗斯 / 塞缪尔·杰克逊 / 菲尔·拉马 / 布鲁斯·威利斯 / 弗兰克·威利 / 布尔·斯蒂尔斯 / 文·瑞姆斯 / 劳拉·拉芙蕾丝 / 保罗·考尔德伦...'),\n",
       " ('2001-12-13(加州首映) / 2002-01-04(美国) ',\n",
       "  ' 罗素·克劳 / 艾德·哈里斯 / 詹妮弗·康纳利 / 克里斯托弗·普卢默 / 保罗·贝坦尼 / 亚当·戈德堡 / 乔什·卢卡斯 / 安东尼·拉普 / 贾森·加里-斯坦福德 / 贾德·赫希 / 奥斯汀·潘德尔顿 / 薇薇·卡登尼...')]"
      ]
     },
     "execution_count": 43,
     "metadata": {},
     "output_type": "execute_result"
    }
   ],
   "source": [
    "#### 匹配上映日期和演员\n",
    "time_performer_pattern = re.compile(\"\"\"</span>.*?<p class=\"pl\">(.*?/?.*?)/(.*?)</p>.*?<div class=\"star clearfix\">\"\"\", re.S)\n",
    "re.findall(time_performer_pattern, data)"
   ]
  }
 ],
 "metadata": {
  "kernelspec": {
   "display_name": "Python 3",
   "language": "python",
   "name": "python3"
  },
  "language_info": {
   "codemirror_mode": {
    "name": "ipython",
    "version": 3
   },
   "file_extension": ".py",
   "mimetype": "text/x-python",
   "name": "python",
   "nbconvert_exporter": "python",
   "pygments_lexer": "ipython3",
   "version": "3.6.4"
  }
 },
 "nbformat": 4,
 "nbformat_minor": 2
}
